{
 "cells": [
  {
   "cell_type": "code",
   "execution_count": 6,
   "metadata": {
    "scrolled": false
   },
   "outputs": [
    {
     "name": "stdout",
     "output_type": "stream",
     "text": [
      "Train on 8982 samples, validate on 2246 samples\n",
      "Epoch 1/20\n",
      "8982/8982 [==============================] - 16s 2ms/step - loss: 2.6091 - acc: 0.3473 - val_loss: 2.4098 - val_acc: 0.3620\n",
      "Epoch 2/20\n",
      "8982/8982 [==============================] - 19s 2ms/step - loss: 2.1177 - acc: 0.4697 - val_loss: 1.9167 - val_acc: 0.5196\n",
      "Epoch 3/20\n",
      "8982/8982 [==============================] - 22s 2ms/step - loss: 1.8080 - acc: 0.5334 - val_loss: 1.7777 - val_acc: 0.5494\n",
      "Epoch 4/20\n",
      "8982/8982 [==============================] - 22s 2ms/step - loss: 1.6925 - acc: 0.5629 - val_loss: 1.9085 - val_acc: 0.4506\n",
      "Epoch 5/20\n",
      "8982/8982 [==============================] - 22s 2ms/step - loss: 1.6657 - acc: 0.5695 - val_loss: 1.6498 - val_acc: 0.5801\n",
      "Epoch 6/20\n",
      "8982/8982 [==============================] - 25s 3ms/step - loss: 1.5755 - acc: 0.6002 - val_loss: 1.6203 - val_acc: 0.5837\n",
      "Epoch 7/20\n",
      "8982/8982 [==============================] - 23s 3ms/step - loss: 1.5032 - acc: 0.6167 - val_loss: 1.5288 - val_acc: 0.6171\n",
      "Epoch 8/20\n",
      "8982/8982 [==============================] - 22s 2ms/step - loss: 1.4241 - acc: 0.6381 - val_loss: 1.4800 - val_acc: 0.6193\n",
      "Epoch 9/20\n",
      "8982/8982 [==============================] - 23s 3ms/step - loss: 1.3133 - acc: 0.6657 - val_loss: 1.4410 - val_acc: 0.6385\n",
      "Epoch 10/20\n",
      "8982/8982 [==============================] - 22s 2ms/step - loss: 1.2702 - acc: 0.6752 - val_loss: 1.3712 - val_acc: 0.6585\n",
      "Epoch 11/20\n",
      "8982/8982 [==============================] - 25s 3ms/step - loss: 1.1941 - acc: 0.6965 - val_loss: 1.3367 - val_acc: 0.6630\n",
      "Epoch 12/20\n",
      "8982/8982 [==============================] - 21s 2ms/step - loss: 1.1177 - acc: 0.7130 - val_loss: 1.2843 - val_acc: 0.6696\n",
      "Epoch 13/20\n",
      "8982/8982 [==============================] - 21s 2ms/step - loss: 1.0614 - acc: 0.7271 - val_loss: 1.2478 - val_acc: 0.6750\n",
      "Epoch 14/20\n",
      "8982/8982 [==============================] - 22s 2ms/step - loss: 1.0216 - acc: 0.7352 - val_loss: 1.2445 - val_acc: 0.6817\n",
      "Epoch 15/20\n",
      "8982/8982 [==============================] - 21s 2ms/step - loss: 0.9729 - acc: 0.7470 - val_loss: 1.2391 - val_acc: 0.6937\n",
      "Epoch 16/20\n",
      "8982/8982 [==============================] - 21s 2ms/step - loss: 0.9128 - acc: 0.7661 - val_loss: 1.2158 - val_acc: 0.6963\n",
      "Epoch 17/20\n",
      "8982/8982 [==============================] - 22s 2ms/step - loss: 0.8638 - acc: 0.7793 - val_loss: 1.1894 - val_acc: 0.7075\n",
      "Epoch 18/20\n",
      "8982/8982 [==============================] - 25s 3ms/step - loss: 0.8232 - acc: 0.7909 - val_loss: 1.2091 - val_acc: 0.7066\n",
      "Epoch 19/20\n",
      "8982/8982 [==============================] - 25s 3ms/step - loss: 0.7780 - acc: 0.8025 - val_loss: 1.1956 - val_acc: 0.7075\n",
      "Epoch 20/20\n",
      "8982/8982 [==============================] - 21s 2ms/step - loss: 0.7473 - acc: 0.8061 - val_loss: 1.3191 - val_acc: 0.6812\n",
      "2246/2246 [==============================] - 2s 699us/step\n",
      "\n",
      " 정확도 : 0.6812\n",
      "훈련 데이터: 8982\n",
      "테스트 데이터: 2246\n"
     ]
    },
    {
     "ename": "ValueError",
     "evalue": "The truth value of an array with more than one element is ambiguous. Use a.any() or a.all()",
     "output_type": "error",
     "traceback": [
      "\u001b[1;31m---------------------------------------------------------------------------\u001b[0m",
      "\u001b[1;31mValueError\u001b[0m                                Traceback (most recent call last)",
      "\u001b[1;32m<ipython-input-6-9b0f3cbf0fe6>\u001b[0m in \u001b[0;36m<module>\u001b[1;34m\u001b[0m\n\u001b[0;32m     39\u001b[0m \u001b[0mprint\u001b[0m\u001b[1;33m(\u001b[0m\u001b[1;34m'훈련 데이터: {}'\u001b[0m\u001b[1;33m.\u001b[0m\u001b[0mformat\u001b[0m\u001b[1;33m(\u001b[0m\u001b[0mlen\u001b[0m\u001b[1;33m(\u001b[0m\u001b[0mX_train\u001b[0m\u001b[1;33m)\u001b[0m\u001b[1;33m)\u001b[0m\u001b[1;33m)\u001b[0m\u001b[1;33m\u001b[0m\u001b[1;33m\u001b[0m\u001b[0m\n\u001b[0;32m     40\u001b[0m \u001b[0mprint\u001b[0m\u001b[1;33m(\u001b[0m\u001b[1;34m'테스트 데이터: {}'\u001b[0m\u001b[1;33m.\u001b[0m\u001b[0mformat\u001b[0m\u001b[1;33m(\u001b[0m\u001b[0mlen\u001b[0m\u001b[1;33m(\u001b[0m\u001b[0mX_test\u001b[0m\u001b[1;33m)\u001b[0m\u001b[1;33m)\u001b[0m\u001b[1;33m)\u001b[0m\u001b[1;33m\u001b[0m\u001b[1;33m\u001b[0m\u001b[0m\n\u001b[1;32m---> 41\u001b[1;33m \u001b[0mnum_classes\u001b[0m \u001b[1;33m=\u001b[0m \u001b[0mmax\u001b[0m\u001b[1;33m(\u001b[0m\u001b[0my_train\u001b[0m\u001b[1;33m)\u001b[0m\u001b[1;33m+\u001b[0m\u001b[1;36m1\u001b[0m\u001b[1;33m\u001b[0m\u001b[1;33m\u001b[0m\u001b[0m\n\u001b[0m\u001b[0;32m     42\u001b[0m \u001b[0mprint\u001b[0m\u001b[1;33m(\u001b[0m\u001b[1;34m'카테고리: {}'\u001b[0m\u001b[1;33m.\u001b[0m\u001b[0mformat\u001b[0m\u001b[1;33m(\u001b[0m\u001b[0mnum_classes\u001b[0m\u001b[1;33m)\u001b[0m\u001b[1;33m)\u001b[0m\u001b[1;33m\u001b[0m\u001b[1;33m\u001b[0m\u001b[0m\n",
      "\u001b[1;31mValueError\u001b[0m: The truth value of an array with more than one element is ambiguous. Use a.any() or a.all()"
     ]
    }
   ],
   "source": [
    "from keras.datasets import reuters\n",
    "from keras.models import Sequential\n",
    "from keras.layers import Dense, LSTM, Embedding\n",
    "from keras.preprocessing import sequence\n",
    "from keras.utils import np_utils\n",
    "\n",
    "import numpy\n",
    "import tensorflow as tf\n",
    "import matplotlib.pyplot as plt\n",
    "\n",
    "from keras.datasets import reuters\n",
    "\n",
    "(X_train, Y_train), (X_test, Y_test) = reuters.load_data(num_words=1000,test_split=0.2)\n",
    "\n",
    "x_train = sequence.pad_sequences(X_train, maxlen=100)\n",
    "x_test = sequence.pad_sequences(X_test, maxlen=100)\n",
    "y_train = np_utils.to_categorical(Y_train)\n",
    "y_test = np_utils.to_categorical(Y_test)\n",
    "\n",
    "model = Sequential()\n",
    "model.add(Embedding(1000,100))\n",
    "model.add(LSTM(100, activation='tanh'))\n",
    "model.add(Dense(46, activation='softmax'))\n",
    "\n",
    "model.compile(loss='categorical_crossentropy', optimizer='adam', metrics=['accuracy'])\n",
    "\n",
    "history = model.fit(x_train, y_train, batch_size=100, epochs=20, validation_data=(x_test, y_test))\n",
    "\n",
    "print(\"\\n 정확도 : %.4f\" % (model.evaluate(x_test, y_test)[1]))\n",
    "\n",
    "y_test_loss = history.history['val_loss']\n",
    "y_train_loss = history.history['loss']\n",
    "\n",
    "x_len = numpy.arange(len(y_test_loss))\n",
    "\n",
    "print('훈련 데이터: {}'.format(len(X_train)))\n",
    "print('테스트 데이터: {}'.format(len(X_test)))\n"
   ]
  },
  {
   "cell_type": "code",
   "execution_count": 11,
   "metadata": {},
   "outputs": [
    {
     "name": "stdout",
     "output_type": "stream",
     "text": [
      "[1, 2, 2, 8, 43, 10, 447, 5, 25, 207, 270, 5, 2, 111, 16, 369, 186, 90, 67, 7, 89, 5, 19, 102, 6, 19, 124, 15, 90, 67, 84, 22, 482, 26, 7, 48, 4, 49, 8, 864, 39, 209, 154, 6, 151, 6, 83, 11, 15, 22, 155, 11, 15, 7, 48, 9, 2, 2, 504, 6, 258, 6, 272, 11, 15, 22, 134, 44, 11, 15, 16, 8, 197, 2, 90, 67, 52, 29, 209, 30, 32, 132, 6, 109, 15, 17, 12]\n",
      "[0. 0. 0. 1. 0. 0. 0. 0. 0. 0. 0. 0. 0. 0. 0. 0. 0. 0. 0. 0. 0. 0. 0. 0.\n",
      " 0. 0. 0. 0. 0. 0. 0. 0. 0. 0. 0. 0. 0. 0. 0. 0. 0. 0. 0. 0. 0. 0.]\n"
     ]
    }
   ],
   "source": [
    "print(X_train[0])\n",
    "print(y_train[0])"
   ]
  },
  {
   "cell_type": "code",
   "execution_count": 15,
   "metadata": {
    "scrolled": true
   },
   "outputs": [
    {
     "data": {
      "image/png": "[encoded data removed]",
      "text/plain": [
       "<Figure size 432x288 with 1 Axes>"
      ]
     },
     "metadata": {
      "needs_background": "light"
     },
     "output_type": "display_data"
    }
   ],
   "source": [
    "epochs = range(1, len(history.history['acc'])+1)\n",
    "plt.plot(epochs, history.history['loss'])\n",
    "plt.plot(epochs, history.history['val_loss'])\n",
    "plt.title('model loss')\n",
    "plt.ylabel('loss')\n",
    "plt.xlabel('epoch')\n",
    "plt.legend(['train', 'test'], loc='upper left')\n",
    "plt.show()"
   ]
  },
  {
   "cell_type": "code",
   "execution_count": 20,
   "metadata": {},
   "outputs": [],
   "source": [
    "import matplotlib.pyplot as plt\n",
    "\n",
    "def show_graph(history):\n",
    "    history_dict = history.history\n",
    "    accuracy = history_dict['acc']\n",
    "    val_accuracy = history_dict['val_acc']\n",
    "    loss = history_dict['loss']\n",
    "    val_loss = history_dict['val_loss']\n",
    "\n",
    "    epochs = range(1, len(loss) + 1)\n",
    "    \n",
    "    plt.figure(figsize=(16, 1))\n",
    "    \n",
    "    plt.subplot(121)\n",
    "    plt.subplots_adjust(top=2)\n",
    "    plt.plot(epochs, accuracy, 'ro', label='Training accuracy')\n",
    "    plt.plot(epochs, val_accuracy, 'r', label='Validation accuracy')\n",
    "    plt.title('Trainging and validation accuracy')\n",
    "    plt.xlabel('Epochs')\n",
    "    plt.ylabel('Accuracy and Loss')\n",
    "\n",
    "    plt.legend(loc='upper center', bbox_to_anchor=(0.5, -0.1),\n",
    "              fancybox=True, shadow=True, ncol=5)\n",
    "#     plt.legend(bbox_to_anchor=(1, -0.1))\n",
    "\n",
    "    plt.subplot(122)\n",
    "    plt.plot(epochs, loss, 'bo', label='Training loss')\n",
    "    plt.plot(epochs, val_loss, 'b', label='Validation loss')\n",
    "    plt.title('Training and validation loss')\n",
    "    plt.xlabel('Epochs')\n",
    "    plt.ylabel('Loss')\n",
    "    plt.legend(loc='upper center', bbox_to_anchor=(0.5, -0.1),\n",
    "          fancybox=True, shadow=True, ncol=5)\n",
    "#     plt.legend(bbox_to_anchor=(1, 0))\n",
    "\n",
    "    plt.show()"
   ]
  },
  {
   "cell_type": "code",
   "execution_count": 22,
   "metadata": {
    "scrolled": false
   },
   "outputs": [
    {
     "data": {
      "image/png": "[encoded data removed]",
      "text/plain": [
       "<Figure size 1152x72 with 2 Axes>"
      ]
     },
     "metadata": {
      "needs_background": "light"
     },
     "output_type": "display_data"
    }
   ],
   "source": [
    "show_graph(history)"
   ]
  },
  {
   "cell_type": "code",
   "execution_count": 23,
   "metadata": {},
   "outputs": [],
   "source": [
    "# 로이터 뉴스 분석 : https://codingcrews.github.io/2019/01/14/reuter_multi_classification/\n",
    "\n",
    "from tensorflow.keras.datasets import reuters\n",
    "(train_data, train_labels), (test_data, test_labels) = reuters.load_data(num_words=1000)\n"
   ]
  },
  {
   "cell_type": "code",
   "execution_count": 24,
   "metadata": {},
   "outputs": [
    {
     "name": "stdout",
     "output_type": "stream",
     "text": [
      "Train Datas Shape : (8982,)\n",
      "Train Labels Shape : (8982,)\n"
     ]
    }
   ],
   "source": [
    "print(\"Train Datas Shape : {}\".format(train_data.shape))\n",
    "print(\"Train Labels Shape : {}\".format(train_labels.shape))\n"
   ]
  },
  {
   "cell_type": "code",
   "execution_count": 25,
   "metadata": {},
   "outputs": [
    {
     "data": {
      "text/plain": [
       "[1, 2, 2, 8, 43, 10, 447, 5, 25, 207]"
      ]
     },
     "metadata": {},
     "output_type": "display_data"
    },
    {
     "data": {
      "text/plain": [
       "array([ 3,  4,  3, ..., 25,  3, 25], dtype=int64)"
      ]
     },
     "metadata": {},
     "output_type": "display_data"
    },
    {
     "data": {
      "text/plain": [
       "array([ 3, 10,  1, ...,  3,  3, 24], dtype=int64)"
      ]
     },
     "metadata": {},
     "output_type": "display_data"
    }
   ],
   "source": [
    "display(train_data[0][:10])\n",
    "display(train_labels)\n",
    "\n",
    "display(test_labels)"
   ]
  },
  {
   "cell_type": "code",
   "execution_count": 28,
   "metadata": {},
   "outputs": [
    {
     "name": "stdout",
     "output_type": "stream",
     "text": [
      "? ? ? said as a result of its december acquisition of ? co it expects earnings per share in 1987 of 1 15 to 1 30 dlrs per share up from 70 cts in 1986 the company said pretax net should rise to nine to 10 mln dlrs from six mln dlrs in 1986 and ? ? revenues to 19 to 22 mln dlrs from 12 5 mln dlrs it said cash ? per share this year should be 2 50 to three dlrs reuter 3\n"
     ]
    }
   ],
   "source": [
    "word_index = reuters.get_word_index()\n",
    "reverse_word_index = dict([(val, key) for (key, val) in word_index.items()])\n",
    "decoded_news = ' '.join([reverse_word_index.get(i - 3, '?') for i in train_data[0]])\n",
    "print(decoded_news)"
   ]
  },
  {
   "cell_type": "code",
   "execution_count": 29,
   "metadata": {},
   "outputs": [
    {
     "data": {
      "text/plain": [
       "3"
      ]
     },
     "execution_count": 29,
     "metadata": {},
     "output_type": "execute_result"
    }
   ],
   "source": [
    "train_labels[0]\n"
   ]
  },
  {
   "cell_type": "code",
   "execution_count": 36,
   "metadata": {},
   "outputs": [],
   "source": [
    "import numpy as np\n",
    "\n",
    "def vectorize_sequences(sequences, dimension=1000):\n",
    "    results = np.zeros((len(sequences), dimension)) # 크기가 들어온 리스트 (단어개수, 전체단어개수)이고, 모든 원소가 0인 행렬을 생성\n",
    "    for i, sequence in enumerate(sequences):\n",
    "        results[i, sequence] = 1.\n",
    "    return results"
   ]
  },
  {
   "cell_type": "code",
   "execution_count": 37,
   "metadata": {
    "scrolled": true
   },
   "outputs": [
    {
     "data": {
      "text/plain": [
       "(8982, 1000)"
      ]
     },
     "metadata": {},
     "output_type": "display_data"
    },
    {
     "data": {
      "text/plain": [
       "(2246, 1000)"
      ]
     },
     "metadata": {},
     "output_type": "display_data"
    },
    {
     "data": {
      "text/plain": [
       "(8982, 46)"
      ]
     },
     "metadata": {},
     "output_type": "display_data"
    },
    {
     "data": {
      "text/plain": [
       "(2246, 46)"
      ]
     },
     "metadata": {},
     "output_type": "display_data"
    }
   ],
   "source": [
    "from tensorflow.keras.utils import to_categorical\n",
    "\n",
    "x_train = vectorize_sequences(train_data)\n",
    "x_test = vectorize_sequences(test_data)\n",
    "\n",
    "display(x_train.shape)\n",
    "display(x_test.shape)\n",
    "\n",
    "one_hot_train_labels = to_categorical(train_labels)\n",
    "one_hot_test_labels = to_categorical(test_labels)\n",
    "\n",
    "display(one_hot_train_labels.shape)\n",
    "display(one_hot_test_labels.shape)"
   ]
  },
  {
   "cell_type": "code",
   "execution_count": 38,
   "metadata": {},
   "outputs": [
    {
     "name": "stdout",
     "output_type": "stream",
     "text": [
      "Model: \"sequential_1\"\n",
      "_________________________________________________________________\n",
      "Layer (type)                 Output Shape              Param #   \n",
      "=================================================================\n",
      "dense_3 (Dense)              (None, 64)                64064     \n",
      "_________________________________________________________________\n",
      "dense_4 (Dense)              (None, 64)                4160      \n",
      "_________________________________________________________________\n",
      "dense_5 (Dense)              (None, 46)                2990      \n",
      "=================================================================\n",
      "Total params: 71,214\n",
      "Trainable params: 71,214\n",
      "Non-trainable params: 0\n",
      "_________________________________________________________________\n"
     ]
    }
   ],
   "source": [
    "from tensorflow.keras import models\n",
    "from tensorflow.keras import layers\n",
    "\n",
    "model = models.Sequential()\n",
    "model.add(layers.Dense(64, activation='relu', input_shape=(1000, )))\n",
    "model.add(layers.Dense(64, activation='relu'))\n",
    "model.add(layers.Dense(46, activation='softmax'))\n",
    "\n",
    "model.summary()"
   ]
  },
  {
   "cell_type": "code",
   "execution_count": 39,
   "metadata": {},
   "outputs": [],
   "source": [
    "model.compile(\n",
    "    optimizer='adam',\n",
    "    loss='categorical_crossentropy',\n",
    "    metrics=['accuracy'],\n",
    ")"
   ]
  },
  {
   "cell_type": "code",
   "execution_count": 40,
   "metadata": {},
   "outputs": [],
   "source": [
    "x_val = x_train[:1000]\n",
    "partial_x_train = x_train[1000:]\n",
    "\n",
    "y_val = one_hot_train_labels[:1000]\n",
    "partial_y_train = one_hot_train_labels[1000:]\n"
   ]
  },
  {
   "cell_type": "code",
   "execution_count": 41,
   "metadata": {},
   "outputs": [
    {
     "name": "stdout",
     "output_type": "stream",
     "text": [
      "Train on 7982 samples, validate on 1000 samples\n",
      "Epoch 1/20\n",
      "7982/7982 [==============================] - 1s 63us/sample - loss: 3.3360 - acc: 0.3127 - val_loss: 2.6645 - val_acc: 0.4030\n",
      "Epoch 2/20\n",
      "7982/7982 [==============================] - 0s 23us/sample - loss: 2.2196 - acc: 0.5056 - val_loss: 1.8443 - val_acc: 0.5800\n",
      "Epoch 3/20\n",
      "7982/7982 [==============================] - 0s 22us/sample - loss: 1.6663 - acc: 0.6359 - val_loss: 1.5222 - val_acc: 0.6530\n",
      "Epoch 4/20\n",
      "7982/7982 [==============================] - 0s 23us/sample - loss: 1.4167 - acc: 0.6923 - val_loss: 1.3548 - val_acc: 0.6850\n",
      "Epoch 5/20\n",
      "7982/7982 [==============================] - 0s 23us/sample - loss: 1.2503 - acc: 0.7199 - val_loss: 1.2400 - val_acc: 0.7160\n",
      "Epoch 6/20\n",
      "7982/7982 [==============================] - 0s 31us/sample - loss: 1.1209 - acc: 0.7494 - val_loss: 1.1564 - val_acc: 0.7450\n",
      "Epoch 7/20\n",
      "7982/7982 [==============================] - 0s 23us/sample - loss: 1.0132 - acc: 0.7744 - val_loss: 1.0923 - val_acc: 0.7620\n",
      "Epoch 8/20\n",
      "7982/7982 [==============================] - 0s 23us/sample - loss: 0.9170 - acc: 0.7950 - val_loss: 1.0472 - val_acc: 0.7640\n",
      "Epoch 9/20\n",
      "7982/7982 [==============================] - 0s 23us/sample - loss: 0.8345 - acc: 0.8074 - val_loss: 1.0107 - val_acc: 0.7770\n",
      "Epoch 10/20\n",
      "7982/7982 [==============================] - 0s 29us/sample - loss: 0.7587 - acc: 0.8250 - val_loss: 0.9771 - val_acc: 0.7870\n",
      "Epoch 11/20\n",
      "7982/7982 [==============================] - 0s 25us/sample - loss: 0.6905 - acc: 0.8408 - val_loss: 0.9579 - val_acc: 0.7830\n",
      "Epoch 12/20\n",
      "7982/7982 [==============================] - 0s 23us/sample - loss: 0.6332 - acc: 0.8498 - val_loss: 0.9476 - val_acc: 0.7910\n",
      "Epoch 13/20\n",
      "7982/7982 [==============================] - 0s 31us/sample - loss: 0.5751 - acc: 0.8678 - val_loss: 0.9288 - val_acc: 0.8000\n",
      "Epoch 14/20\n",
      "7982/7982 [==============================] - 0s 26us/sample - loss: 0.5289 - acc: 0.8773 - val_loss: 0.9268 - val_acc: 0.8040\n",
      "Epoch 15/20\n",
      "7982/7982 [==============================] - 0s 30us/sample - loss: 0.4856 - acc: 0.8881 - val_loss: 0.9243 - val_acc: 0.7990\n",
      "Epoch 16/20\n",
      "7982/7982 [==============================] - 0s 24us/sample - loss: 0.4435 - acc: 0.9005 - val_loss: 0.9360 - val_acc: 0.7940\n",
      "Epoch 17/20\n",
      "7982/7982 [==============================] - 0s 29us/sample - loss: 0.4093 - acc: 0.9072 - val_loss: 0.9386 - val_acc: 0.8030\n",
      "Epoch 18/20\n",
      "7982/7982 [==============================] - 0s 25us/sample - loss: 0.3789 - acc: 0.9162 - val_loss: 0.9472 - val_acc: 0.8040\n",
      "Epoch 19/20\n",
      "7982/7982 [==============================] - 0s 29us/sample - loss: 0.3511 - acc: 0.9202 - val_loss: 0.9612 - val_acc: 0.7990\n",
      "Epoch 20/20\n",
      "7982/7982 [==============================] - 0s 25us/sample - loss: 0.3253 - acc: 0.9253 - val_loss: 0.9685 - val_acc: 0.8030\n"
     ]
    }
   ],
   "source": [
    "history = model.fit(\n",
    "    partial_x_train, \n",
    "    partial_y_train,\n",
    "    epochs=20,\n",
    "    batch_size=512,\n",
    "    validation_data=(x_val, y_val)\n",
    ")"
   ]
  },
  {
   "cell_type": "code",
   "execution_count": 42,
   "metadata": {},
   "outputs": [],
   "source": [
    "import matplotlib.pyplot as plt\n",
    "\n",
    "def show_graph(history):\n",
    "    history_dict = history.history\n",
    "    accuracy = history_dict['acc']\n",
    "    val_accuracy = history_dict['val_acc']\n",
    "    loss = history_dict['loss']\n",
    "    val_loss = history_dict['val_loss']\n",
    "\n",
    "    epochs = range(1, len(loss) + 1)\n",
    "    \n",
    "    plt.figure(figsize=(16, 1))\n",
    "    \n",
    "    plt.subplot(121)\n",
    "    plt.subplots_adjust(top=2)\n",
    "    plt.plot(epochs, accuracy, 'ro', label='Training accuracy')\n",
    "    plt.plot(epochs, val_accuracy, 'r', label='Validation accuracy')\n",
    "    plt.title('Trainging and validation accuracy')\n",
    "    plt.xlabel('Epochs')\n",
    "    plt.ylabel('Accuracy and Loss')\n",
    "\n",
    "    plt.legend(loc='upper center', bbox_to_anchor=(0.5, -0.1),\n",
    "              fancybox=True, shadow=True, ncol=5)\n",
    "#     plt.legend(bbox_to_anchor=(1, -0.1))\n",
    "\n",
    "    plt.subplot(122)\n",
    "    plt.plot(epochs, loss, 'bo', label='Training loss')\n",
    "    plt.plot(epochs, val_loss, 'b', label='Validation loss')\n",
    "    plt.title('Training and validation loss')\n",
    "    plt.xlabel('Epochs')\n",
    "    plt.ylabel('Loss')\n",
    "    plt.legend(loc='upper center', bbox_to_anchor=(0.5, -0.1),\n",
    "          fancybox=True, shadow=True, ncol=5)\n",
    "#     plt.legend(bbox_to_anchor=(1, 0))\n",
    "\n",
    "    plt.show()"
   ]
  },
  {
   "cell_type": "code",
   "execution_count": 43,
   "metadata": {
    "scrolled": true
   },
   "outputs": [
    {
     "data": {
      "image/png": "[encoded data removed]",
      "text/plain": [
       "<Figure size 1152x72 with 2 Axes>"
      ]
     },
     "metadata": {
      "needs_background": "light"
     },
     "output_type": "display_data"
    }
   ],
   "source": [
    "show_graph(history)"
   ]
  },
  {
   "cell_type": "code",
   "execution_count": 44,
   "metadata": {},
   "outputs": [
    {
     "data": {
      "text/plain": [
       "(2246, 46)"
      ]
     },
     "metadata": {},
     "output_type": "display_data"
    }
   ],
   "source": [
    "predictions = model.predict(x_test)\n",
    "display(predictions.shape)\n"
   ]
  }
 ],
 "metadata": {
  "kernelspec": {
   "display_name": "Python [conda env:tensorflow] *",
   "language": "python",
   "name": "conda-env-tensorflow-py"
  },
  "language_info": {
   "codemirror_mode": {
    "name": "ipython",
    "version": 3
   },
   "file_extension": ".py",
   "mimetype": "text/x-python",
   "name": "python",
   "nbconvert_exporter": "python",
   "pygments_lexer": "ipython3",
   "version": "3.7.3"
  }
 },
 "nbformat": 4,
 "nbformat_minor": 2
}
