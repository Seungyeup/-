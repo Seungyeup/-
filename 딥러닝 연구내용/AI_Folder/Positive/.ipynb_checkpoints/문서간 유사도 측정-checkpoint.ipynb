{
 "cells": [
  {
   "cell_type": "code",
   "execution_count": 25,
   "metadata": {
    "scrolled": false
   },
   "outputs": [],
   "source": [
    "# # pip install newspaper3k  로 기사 \n",
    "\n",
    "# from newspaper import Article\n",
    "# import nltk\n",
    "# nltk.download('punkt')\n",
    "# url = 'http://v.media.daum.net/v/20171215130602344'\n",
    "\n",
    "# article = Article(url, langague='ko')\n",
    " \n",
    "# article.download()\n",
    " \n",
    "# article.parse()\n",
    "\n",
    "# print (article.title)\n",
    " \n",
    "# print (article.text)\n",
    "\n",
    "# article.publish_date\n",
    "\n",
    "# article.nlp()\n",
    "\n",
    "# article.keywords\n",
    "\n",
    "# article.summary\n",
    "\n",
    "# from newspaper import Article\n",
    "# from konlpy.tag import Kkma, Twitter\n",
    "# from sklearn.feature_extraction.text import TfidfVectorizer\n",
    "# import csv\n",
    " \n",
    "# url_list = ['http://v.media.daum.net/v/20171215130602344',\n",
    "#             'http://v.media.daum.net/v/20171215130312300',\n",
    "#             'http://v.media.daum.net/v/20171215111203921',\n",
    "#             'http://v.media.daum.net/v/20171216002700566',\n",
    "#             'http://v.media.daum.net/v/20171215214505350']\n",
    " \n",
    "# twitter = Twitter()\n",
    "# kkma = Kkma()\n",
    " \n",
    "# mydoclist_kkma = []\n",
    "# mydoclist_twitter = []\n",
    " \n",
    "# for url in url_list:\n",
    "#     article = Article(url, langague='ko')\n",
    "#     article.download()\n",
    "#     article.parse()\n",
    " \n",
    "#     kkma_nouns = ' '.join(kkma.nouns(article.text))\n",
    "#     twitter_nouns = ' '.join(twitter.nouns(article.text))\n",
    "#     mydoclist_kkma.append(kkma_nouns)\n",
    "#     mydoclist_twitter.append(twitter_nouns)\n",
    " \n",
    "# tfidf_vectorizer = TfidfVectorizer(min_df=1)\n",
    "# tfidf_matrix_kkma = tfidf_vectorizer.fit_transform(mydoclist_kkma)\n",
    "# tfidf_matrix_twitter = tfidf_vectorizer.fit_transform(mydoclist_twitter)\n",
    " \n",
    "# document_distances_kkma = (tfidf_matrix_kkma * tfidf_matrix_kkma.T)\n",
    "# document_distances_twitter = (tfidf_matrix_twitter * tfidf_matrix_twitter.T)\n",
    " \n",
    "# print ('Kkma class를 활용한 유사도 분석을 위해 ' + str(document_distances_kkma.get_shape()[0]) + 'x' + str(document_distances_kkma.get_shape()[1]) + ' matrix를 만들었습니다.')\n",
    "# print(document_distances_kkma.toarray())\n",
    " \n",
    " \n",
    " \n",
    "# print ('Twitter class를 활용한 유사도 분석을 위해 ' + str(document_distances_twitter.get_shape()[0]) + 'x' + str(document_distances_twitter.get_shape()[1]) + ' matrix를 만들었습니다.')\n",
    "# print(document_distances_twitter.toarray())\n",
    "\n",
    "\n"
   ]
  },
  {
   "cell_type": "code",
   "execution_count": 1,
   "metadata": {},
   "outputs": [],
   "source": [
    "from urllib.request import urlopen\n",
    "from bs4 import BeautifulSoup\n",
    "\n",
    "# 아래의 함수는 네이버 기사의 주소를 넣어주면 기사의 제목과 본문을 반환하는 함수입니다. 다음이나 다른것으로 변환 시도 해볼것\n",
    "\n",
    "def get_naver_news(url):# url : 기사의 주소\n",
    "    html = urlopen(url)\n",
    "    source = html.read()\n",
    "    html.close()\n",
    "    soup = BeautifulSoup(source, 'lxml', from_encoding='utf-8')\n",
    "    title = soup.findAll('div', {'id':'main_content'})[0].findAll('div', {'class':'article_info'})[0].find('h3',{'id':'articleTitle'}).text\n",
    "    main_text = soup.findAll('div', {'id':'articleBodyContents'})[0].get_text(\" \", strip=True)\n",
    "    main_text = main_text[63:]\n",
    "    \n",
    "    return title, main_text  # title : 기사의 제목, main_text : 기사의 본문"
   ]
  },
  {
   "cell_type": "code",
   "execution_count": 2,
   "metadata": {},
   "outputs": [],
   "source": [
    "# 위 함수에 기사 주소를 입력해 줍니다.\n",
    "title, main_text = get_naver_news('https://news.naver.com/main/read.nhn?mode=LSD&mid=sec&oid=022&aid=0003297750&sid1=001')"
   ]
  },
  {
   "cell_type": "code",
   "execution_count": 3,
   "metadata": {
    "scrolled": true
   },
   "outputs": [
    {
     "name": "stdout",
     "output_type": "stream",
     "text": [
      "자녀 10명 중 8명 “부모 의료비 때문에 소득 감소”\n",
      "\n",
      "\n",
      "부모의 의료비를 지원한 자녀 10명 중 8명이 가계소득 감소를 경험한 것으로 조사됐다. 20일 삼성생명 은퇴연구소의 ‘고령자 의료소비 실태 및 인식조사’ 보고서에 따르면 부모 의료비를 지원하던 자녀 중 82%의 가계소득이 감소했다. 가계소득 감소폭은 10∼25%가 38%로 가장 많았고, 이어 25∼50%가 20%, 10% 미만이 17%였다. 연구소는 지난 6월 5일부터 11일까지 최근 5년 내 부모의 의료비로 1000만원 이상 지출하고 65세 이상 부모를 부양하고 있는 성인 400명을 조사됐다. 부모의 의료비를 마련하는 방법으로 응답자 등 자녀의 지원을 받았다는 답은 모두 47%였다. 반면 보험금 활용은 18%, 보험금 외 금융자산은 11%, 부동산과 기타자산은 8%에 그쳤다. 부모를 지원한 자녀는 부모의 의료비를 마련하기 위해 금융자산을 활용했다는 답이 46%로 가장 많았다. 이어 생활비 지출을 줄였다는 응답이 26%, 부채를 활용했다는 응답 10%였다. 부모 스스로 의료비를 준비하지 못한 이유에 대해 자녀들은 ‘노후 의료비 필요성을 인식하지 못했다’(30%)고 답했다. ‘부족한 노후 생활비’는 25%, ‘손·자녀 양육 및 교육비’는 20%였다. 응답자 부모의 평균 투병기간은 6.1년이고 치료·간병비 등 평균 의료비는 3228만원으로 나타났다. 특히 투병기간이 10년 이상인 경우 투병기간 2년 이하와 비교해 의료비 비중은 58%에서 50%로 감소하는 반면, 약제비(7→12%)와 건강기능식품·보조기구 구입비용(8→15%) 등 간접 의료비가 늘어나는 것으로 조사됐다. 조명기 삼성생명 은퇴연구소 수석연구원은 “부모의 노후의료비 때문에 부모 자신은 물론 자녀의 가계와 가족관계까지 영향을 끼친다”며 “투병기간이 길어지는 추세를 감안해 치료비뿐만 아니라 간접비용도 준비해야 한다”고 말했다. 백소용 기자 swinia@segye.com ⓒ 세상을 보는 눈, 글로벌 미디어 세계일보\n"
     ]
    }
   ],
   "source": [
    "# 기사 제목을 프린트합니다.\n",
    "print(title)\n",
    "print(\"\\n\")\n",
    "print(main_text)"
   ]
  },
  {
   "cell_type": "code",
   "execution_count": 29,
   "metadata": {},
   "outputs": [
    {
     "ename": "IndexError",
     "evalue": "list index out of range",
     "output_type": "error",
     "traceback": [
      "\u001b[1;31m---------------------------------------------------------------------------\u001b[0m",
      "\u001b[1;31mIndexError\u001b[0m                                Traceback (most recent call last)",
      "\u001b[1;32m<ipython-input-29-c42aabc3d19a>\u001b[0m in \u001b[0;36m<module>\u001b[1;34m\u001b[0m\n\u001b[0;32m     15\u001b[0m \u001b[0mnews_list\u001b[0m \u001b[1;33m=\u001b[0m \u001b[1;33m[\u001b[0m\u001b[1;33m]\u001b[0m\u001b[1;33m\u001b[0m\u001b[1;33m\u001b[0m\u001b[0m\n\u001b[0;32m     16\u001b[0m \u001b[1;32mfor\u001b[0m \u001b[0murl\u001b[0m \u001b[1;32min\u001b[0m \u001b[0murl_list\u001b[0m\u001b[1;33m:\u001b[0m\u001b[1;33m\u001b[0m\u001b[1;33m\u001b[0m\u001b[0m\n\u001b[1;32m---> 17\u001b[1;33m     \u001b[0mtitle\u001b[0m\u001b[1;33m,\u001b[0m \u001b[0mmain_text\u001b[0m \u001b[1;33m=\u001b[0m \u001b[0mget_naver_news\u001b[0m\u001b[1;33m(\u001b[0m\u001b[0murl\u001b[0m\u001b[1;33m)\u001b[0m\u001b[1;33m\u001b[0m\u001b[1;33m\u001b[0m\u001b[0m\n\u001b[0m\u001b[0;32m     18\u001b[0m     \u001b[0mnews_list\u001b[0m\u001b[1;33m.\u001b[0m\u001b[0mappend\u001b[0m\u001b[1;33m(\u001b[0m\u001b[1;33m(\u001b[0m\u001b[0mmain_text\u001b[0m\u001b[1;33m)\u001b[0m\u001b[1;33m)\u001b[0m\u001b[1;33m\u001b[0m\u001b[1;33m\u001b[0m\u001b[0m\n",
      "\u001b[1;32m<ipython-input-1-cfd289d683f1>\u001b[0m in \u001b[0;36mget_naver_news\u001b[1;34m(url)\u001b[0m\n\u001b[0;32m      9\u001b[0m     \u001b[0mhtml\u001b[0m\u001b[1;33m.\u001b[0m\u001b[0mclose\u001b[0m\u001b[1;33m(\u001b[0m\u001b[1;33m)\u001b[0m\u001b[1;33m\u001b[0m\u001b[1;33m\u001b[0m\u001b[0m\n\u001b[0;32m     10\u001b[0m     \u001b[0msoup\u001b[0m \u001b[1;33m=\u001b[0m \u001b[0mBeautifulSoup\u001b[0m\u001b[1;33m(\u001b[0m\u001b[0msource\u001b[0m\u001b[1;33m,\u001b[0m \u001b[1;34m'lxml'\u001b[0m\u001b[1;33m,\u001b[0m \u001b[0mfrom_encoding\u001b[0m\u001b[1;33m=\u001b[0m\u001b[1;34m'utf-8'\u001b[0m\u001b[1;33m)\u001b[0m\u001b[1;33m\u001b[0m\u001b[1;33m\u001b[0m\u001b[0m\n\u001b[1;32m---> 11\u001b[1;33m     \u001b[0mtitle\u001b[0m \u001b[1;33m=\u001b[0m \u001b[0msoup\u001b[0m\u001b[1;33m.\u001b[0m\u001b[0mfindAll\u001b[0m\u001b[1;33m(\u001b[0m\u001b[1;34m'div'\u001b[0m\u001b[1;33m,\u001b[0m \u001b[1;33m{\u001b[0m\u001b[1;34m'id'\u001b[0m\u001b[1;33m:\u001b[0m\u001b[1;34m'main_content'\u001b[0m\u001b[1;33m}\u001b[0m\u001b[1;33m)\u001b[0m\u001b[1;33m[\u001b[0m\u001b[1;36m0\u001b[0m\u001b[1;33m]\u001b[0m\u001b[1;33m.\u001b[0m\u001b[0mfindAll\u001b[0m\u001b[1;33m(\u001b[0m\u001b[1;34m'div'\u001b[0m\u001b[1;33m,\u001b[0m \u001b[1;33m{\u001b[0m\u001b[1;34m'class'\u001b[0m\u001b[1;33m:\u001b[0m\u001b[1;34m'article_info'\u001b[0m\u001b[1;33m}\u001b[0m\u001b[1;33m)\u001b[0m\u001b[1;33m[\u001b[0m\u001b[1;36m0\u001b[0m\u001b[1;33m]\u001b[0m\u001b[1;33m.\u001b[0m\u001b[0mfind\u001b[0m\u001b[1;33m(\u001b[0m\u001b[1;34m'h3'\u001b[0m\u001b[1;33m,\u001b[0m\u001b[1;33m{\u001b[0m\u001b[1;34m'id'\u001b[0m\u001b[1;33m:\u001b[0m\u001b[1;34m'articleTitle'\u001b[0m\u001b[1;33m}\u001b[0m\u001b[1;33m)\u001b[0m\u001b[1;33m.\u001b[0m\u001b[0mtext\u001b[0m\u001b[1;33m\u001b[0m\u001b[1;33m\u001b[0m\u001b[0m\n\u001b[0m\u001b[0;32m     12\u001b[0m     \u001b[0mmain_text\u001b[0m \u001b[1;33m=\u001b[0m \u001b[0msoup\u001b[0m\u001b[1;33m.\u001b[0m\u001b[0mfindAll\u001b[0m\u001b[1;33m(\u001b[0m\u001b[1;34m'div'\u001b[0m\u001b[1;33m,\u001b[0m \u001b[1;33m{\u001b[0m\u001b[1;34m'id'\u001b[0m\u001b[1;33m:\u001b[0m\u001b[1;34m'articleBodyContents'\u001b[0m\u001b[1;33m}\u001b[0m\u001b[1;33m)\u001b[0m\u001b[1;33m[\u001b[0m\u001b[1;36m0\u001b[0m\u001b[1;33m]\u001b[0m\u001b[1;33m.\u001b[0m\u001b[0mget_text\u001b[0m\u001b[1;33m(\u001b[0m\u001b[1;34m\" \"\u001b[0m\u001b[1;33m,\u001b[0m \u001b[0mstrip\u001b[0m\u001b[1;33m=\u001b[0m\u001b[1;32mTrue\u001b[0m\u001b[1;33m)\u001b[0m\u001b[1;33m\u001b[0m\u001b[1;33m\u001b[0m\u001b[0m\n\u001b[0;32m     13\u001b[0m     \u001b[0mmain_text\u001b[0m \u001b[1;33m=\u001b[0m \u001b[0mmain_text\u001b[0m\u001b[1;33m[\u001b[0m\u001b[1;36m63\u001b[0m\u001b[1;33m:\u001b[0m\u001b[1;33m]\u001b[0m\u001b[1;33m\u001b[0m\u001b[1;33m\u001b[0m\u001b[0m\n",
      "\u001b[1;31mIndexError\u001b[0m: list index out of range"
     ]
    }
   ],
   "source": [
    "# url_list에 다른 기사를 추가하시면 그 기사에 대한 결과도 보실수 있습니다.\n",
    "url_list = ['https://news.naver.com/main/read.nhn?mode=LSD&mid=sec&oid=022&aid=0003297750&sid1=001', \n",
    "            'https://news.naver.com/main/read.nhn?mode=LS2D&mid=shm&sid1=101&sid2=310&oid=469&aid=0000322904',\n",
    "            'https://news.naver.com/main/ranking/read.nhn?mid=etc&sid1=111&rankingType=popular_day&oid=119&aid=0002277201&date=20180822&type=1&rankingSeq=6&rankingSectionId=101']\n",
    "\n",
    "# url_list에 있는 기사를 읽어오고 본문만 news_list에 저장합니다.\n",
    "news_list = []\n",
    "for url in url_list:\n",
    "    title, main_text = get_naver_news(url)\n",
    "    news_list.append((main_text)) "
   ]
  },
  {
   "cell_type": "code",
   "execution_count": 5,
   "metadata": {},
   "outputs": [
    {
     "name": "stderr",
     "output_type": "stream",
     "text": [
      "C:\\Users\\user\\Anaconda3\\envs\\tensorflow\\lib\\site-packages\\jpype\\_core.py:210: UserWarning: \n",
      "-------------------------------------------------------------------------------\n",
      "Deprecated: convertStrings was not specified when starting the JVM. The default\n",
      "behavior in JPype will be False starting in JPype 0.8. The recommended setting\n",
      "for new code is convertStrings=False.  The legacy value of True was assumed for\n",
      "this session. If you are a user of an application that reported this warning,\n",
      "please file a ticket with the developer.\n",
      "-------------------------------------------------------------------------------\n",
      "\n",
      "  \"\"\")\n"
     ]
    },
    {
     "name": "stdout",
     "output_type": "stream",
     "text": [
      "['GS/Alpha', '25/Number', ',/Punctuation', '케이/Noun', '뱅크/Noun', '와/Josa', '정맥/Noun', '인증/Noun', 'ATM/Alpha', '서비스/Noun', '22일/Number', '서울/Noun', '종로구/Noun', '에/Josa', '위치/Noun', '한/Josa', 'GS/Alpha', '25/Number', '편의점/Noun', '에서/Josa', '케이/Noun', '뱅크/Noun', '직원/Noun', '들/Suffix', '이/Josa', '손바닥/Noun', '정맥/Noun', '본인/Noun', '인증/Noun', '을/Josa']\n"
     ]
    }
   ],
   "source": [
    "from konlpy.tag import Okt\n",
    "\n",
    "# token화를 합니다.\n",
    "t = Okt()\n",
    "pos = lambda d: [\"/\".join(p) for p in t.pos(d, stem=True, norm=True)]\n",
    "news_ko = [pos(news) for news in news_list]\n",
    "\n",
    "# 30개의 토큰만 프린트해서 확인합니다.\n",
    "print(news_ko[1][:30])"
   ]
  },
  {
   "cell_type": "code",
   "execution_count": 6,
   "metadata": {},
   "outputs": [],
   "source": [
    "# 토큰을 자연수로 바꿔주는 역할을 합니다.\n",
    "from gensim import corpora\n",
    "\n",
    "dictionary_ko = corpora.Dictionary(news_ko)"
   ]
  },
  {
   "cell_type": "code",
   "execution_count": 7,
   "metadata": {
    "scrolled": true
   },
   "outputs": [
    {
     "name": "stdout",
     "output_type": "stream",
     "text": [
      "첫번째 10개 단어의 TF-IDF 벡터 : [(0, 2), (1, 3), (2, 5), (3, 3), (4, 13), (5, 2), (6, 2), (7, 1), (8, 1), (9, 1)]\n",
      "상위 10개 TF-IDF 벡터 : [(203, 16), (4, 13), (126, 12), (169, 12), (121, 11), (96, 10), (163, 10), (167, 9), (165, 7), (170, 7)]\n",
      "가장 많이 등장한 토큰 : 말/Noun\n"
     ]
    }
   ],
   "source": [
    "# TF-IDF를 계산합니다.\n",
    "from gensim import models\n",
    "tf_ko = [dictionary_ko.doc2bow(text) for text in news_ko]\n",
    "tfidf_model_ko = models.TfidfModel(tf_ko)\n",
    "tfidf_ko = tfidf_model_ko[tf_ko]\n",
    "\n",
    "\n",
    "print('첫번째 10개 단어의 TF-IDF 벡터 :', tfidf_ko.corpus[0][:10])\n",
    "print('상위 10개 TF-IDF 벡터 :', sorted(tfidf_ko.corpus[0], key=lambda x: x[1], reverse=True)[:10])\n",
    "print('가장 많이 등장한 토큰 :', dictionary_ko.get(100))"
   ]
  },
  {
   "cell_type": "code",
   "execution_count": 8,
   "metadata": {
    "scrolled": true
   },
   "outputs": [
    {
     "data": {
      "text/plain": [
       "[(1, 0.04546183362302555),\n",
       " (2, 0.20529891921188154),\n",
       " (5, 0.03030788908201703),\n",
       " (6, 0.08211956768475262),\n",
       " (7, 0.04105978384237631),\n",
       " (8, 0.04105978384237631),\n",
       " (9, 0.04105978384237631),\n",
       " (10, 0.04105978384237631),\n",
       " (11, 0.015153944541008515),\n",
       " (12, 0.015153944541008515)]"
      ]
     },
     "execution_count": 8,
     "metadata": {},
     "output_type": "execute_result"
    }
   ],
   "source": [
    "tfidf_ko[0][:10]"
   ]
  },
  {
   "cell_type": "code",
   "execution_count": 9,
   "metadata": {},
   "outputs": [
    {
     "name": "stdout",
     "output_type": "stream",
     "text": [
      "['부모/Noun', '의/Josa', '의료/Noun', '비/Noun', '를/Josa', '지원/Noun', '한/Josa', '자녀/Noun', '10/Number', '명/Noun']\n",
      "['부모/Noun', '자녀/Noun', ',/Foreign', '비/Noun', '의료/Noun', '가계/Noun', '간/Suffix', '감소/Noun', '병기/Noun', '응답/Noun']\n"
     ]
    }
   ],
   "source": [
    "def tfidf_to_words(index, n_words):\n",
    "    id_list = [sorted(tfidf_ko[index], key=lambda x: x[1], reverse=True)[:n_words][i][0] for i in range(n_words)]\n",
    "    word_list = [dictionary_ko[id_list[i]] for i in range(n_words)]\n",
    "    return word_list \n",
    "\n",
    "print(news_ko[0][:10])\n",
    "print(tfidf_to_words(0, 10))"
   ]
  },
  {
   "cell_type": "code",
   "execution_count": 10,
   "metadata": {},
   "outputs": [
    {
     "name": "stdout",
     "output_type": "stream",
     "text": [
      "(0, '0.003*\"부모/Noun\" + 0.003*\"자녀/Noun\" + 0.002*\",/Foreign\" + 0.002*\"의료/Noun\" + 0.002*\"병기/Noun\"')\n",
      "(1, '0.003*\"GS/Alpha\" + 0.003*\"손바닥/Noun\" + 0.003*\"인증/Noun\" + 0.003*\"뱅크/Noun\" + 0.003*\"ATM/Alpha\"')\n",
      "(2, '0.002*\"세액/Noun\" + 0.002*\"공제/Noun\" + 0.002*\"사업자/Noun\" + 0.002*\"부모/Noun\" + 0.002*\"공/Modifier\"')\n"
     ]
    }
   ],
   "source": [
    "# LDA\n",
    "ntopics, nwords = 3, 5\n",
    "\n",
    "import numpy as np; np.random.seed(20)  # optional\n",
    "lda_ko = models.ldamodel.LdaModel(tfidf_ko, id2word=dictionary_ko,\n",
    "                                  num_topics=ntopics)\n",
    "\n",
    "print(lda_ko.print_topics(num_topics=ntopics, num_words=nwords)[0])\n",
    "print(lda_ko.print_topics(num_topics=ntopics, num_words=nwords)[1])\n",
    "print(lda_ko.print_topics(num_topics=ntopics, num_words=nwords)[2])"
   ]
  },
  {
   "cell_type": "code",
   "execution_count": 23,
   "metadata": {
    "scrolled": true
   },
   "outputs": [
    {
     "data": {
      "text/plain": [
       "'부모의 의료비를 지원한 자녀 10명 중 8명이 가계소득 감소를 경험한 것으로 조사됐다. 20일 삼성생명 은퇴연구소의 ‘고령자 의료소비 실태 및 인식조사’ 보고서에 따르면 부모 의료비를 지원하던 자녀 중 82%의 가계소득이 감소했다. 가계소득 감소폭은 10∼25%가 38%로 가장 많았고, 이어 25∼50%가 20%, 10% 미만이 17%였다. 연구소는 지난 6월 5일부터 11일까지 최근 5년 내 부모의 의료비로 1000만원 이상 지출하고 65세 이상 부모를 부양하고 있는 성인 400명을 조사됐다. 부모의 의료비를 마련하는 방법으로 응답자 등 자녀의 지원을 받았다는 답은 모두 47%였다. 반면 보험금 활용은 18%, 보험금 외 금융자산은 11%, 부동산과 기타자산은 8%에 그쳤다. 부모를 지원한 자녀는 부모의 의료비를 마련하기 위해 금융자산을 활용했다는 답이 46%로 가장 많았다. 이어 생활비 지출을 줄였다는 응답이 26%, 부채를 활용했다는 응답 10%였다. 부모 스스로 의료비를 준비하지 못한 이유에 대해 자녀들은 ‘노후 의료비 필요성을 인식하지 못했다’(30%)고 답했다. ‘부족한 노후 생활비’는 25%, ‘손·자녀 양육 및 교육비’는 20%였다. 응답자 부모의 평균 투병기간은 6.1년이고 치료·간병비 등 평균 의료비는 3228만원으로 나타났다. 특히 투병기간이 10년 이상인 경우 투병기간 2년 이하와 비교해 의료비 비중은 58%에서 50%로 감소하는 반면, 약제비(7→12%)와 건강기능식품·보조기구 구입비용(8→15%) 등 간접 의료비가 늘어나는 것으로 조사됐다. 조명기 삼성생명 은퇴연구소 수석연구원은 “부모의 노후의료비 때문에 부모 자신은 물론 자녀의 가계와 가족관계까지 영향을 끼친다”며 “투병기간이 길어지는 추세를 감안해 치료비뿐만 아니라 간접비용도 준비해야 한다”고 말했다. 백소용 기자 swinia@segye.com ⓒ 세상을 보는 눈, 글로벌 미디어 세계일보'"
      ]
     },
     "execution_count": 23,
     "metadata": {},
     "output_type": "execute_result"
    }
   ],
   "source": [
    "news_list[0]"
   ]
  },
  {
   "cell_type": "code",
   "execution_count": 27,
   "metadata": {
    "scrolled": false
   },
   "outputs": [
    {
     "name": "stdout",
     "output_type": "stream",
     "text": [
      "1번 기사 [1줄 요약] : 부모의 의료비를 지원한 자녀 10명 중 8명이 가계소득 감소를 경험한 것으로 조사됐다.\n",
      "\n",
      "2번 기사 [1줄 요약] : 손바닥 뱅킹을 이용하려면 먼저 케이뱅크 앱에서 실명확인을 한 뒤 GS25 점포에 있는 스마트ATM에서자신의 손바닥 정맥을 등록하면 된다.\n",
      "\n",
      "3번 기사 [1줄 요약] : 신용카드 등 매출세액 공제한도는 내년도 신고분(올해 매출분)부터 2020년 말까지 연매출액 10억원 이하 사업자가 신용카드 등으로 결제받는 경우 결제금액의 1.3∼2.6%를 연 700만원 한도 내에서 부가세액에서 공제해준다.\n",
      "\n"
     ]
    }
   ],
   "source": [
    "from textrankr import TextRank\n",
    "\n",
    "textrank0 = TextRank(news_list[0])\n",
    "textrank1 = TextRank(news_list[1])\n",
    "textrank2 = TextRank(news_list[2])\n",
    "# 3개의 요약문을 프린트합니다.\n",
    "print(\"1번 기사 [1줄 요약] : \"+ textrank0.summarize(1) + \"\\n\")\n",
    "print(\"2번 기사 [1줄 요약] : \"+ textrank1.summarize(1) + \"\\n\")\n",
    "print(\"3번 기사 [1줄 요약] : \"+ textrank2.summarize(1) + \"\\n\")"
   ]
  },
  {
   "cell_type": "code",
   "execution_count": 24,
   "metadata": {},
   "outputs": [
    {
     "name": "stderr",
     "output_type": "stream",
     "text": [
      "C:\\Users\\user\\Anaconda3\\envs\\tensorflow\\lib\\site-packages\\konlpy\\tag\\_okt.py:16: UserWarning: \"Twitter\" has changed to \"Okt\" since KoNLPy v0.4.5.\n",
      "  warn('\"Twitter\" has changed to \"Okt\" since KoNLPy v0.4.5.')\n"
     ]
    },
    {
     "name": "stdout",
     "output_type": "stream",
     "text": [
      "Kkma class를 활용한 유사도 분석을 위해 3x3 matrix를 만들었습니다.\n",
      "[[1.         0.02290405 0.05974979]\n",
      " [0.02290405 1.         0.05296085]\n",
      " [0.05974979 0.05296085 1.        ]]\n",
      "Twitter class를 활용한 유사도 분석을 위해 3x3 matrix를 만들었습니다.\n",
      "[[1.         0.00722469 0.05222979]\n",
      " [0.00722469 1.         0.01329261]\n",
      " [0.05222979 0.01329261 1.        ]]\n"
     ]
    }
   ],
   "source": [
    "from newspaper import Article\n",
    "from konlpy.tag import Kkma, Twitter\n",
    "from sklearn.feature_extraction.text import TfidfVectorizer\n",
    "import csv\n",
    "import nltk\n",
    "\n",
    "twitter = Twitter()\n",
    "kkma = Kkma()\n",
    " \n",
    "mydoclist_kkma = []\n",
    "mydoclist_twitter = []\n",
    " \n",
    "for url in url_list:\n",
    "    article = Article(url, langague='ko')\n",
    "    article.download()\n",
    "    article.parse()\n",
    " \n",
    "    kkma_nouns = ' '.join(kkma.nouns(article.text))\n",
    "    twitter_nouns = ' '.join(twitter.nouns(article.text))\n",
    "    mydoclist_kkma.append(kkma_nouns)\n",
    "    mydoclist_twitter.append(twitter_nouns)\n",
    " \n",
    "tfidf_vectorizer = TfidfVectorizer(min_df=1)\n",
    "tfidf_matrix_kkma = tfidf_vectorizer.fit_transform(mydoclist_kkma)\n",
    "tfidf_matrix_twitter = tfidf_vectorizer.fit_transform(mydoclist_twitter)\n",
    " \n",
    "document_distances_kkma = (tfidf_matrix_kkma * tfidf_matrix_kkma.T)\n",
    "document_distances_twitter = (tfidf_matrix_twitter * tfidf_matrix_twitter.T)\n",
    " \n",
    "print ('Kkma class를 활용한 유사도 분석을 위해 ' + str(document_distances_kkma.get_shape()[0]) + 'x' + str(document_distances_kkma.get_shape()[1]) + ' matrix를 만들었습니다.')\n",
    "print(document_distances_kkma.toarray())\n",
    " \n",
    "\n",
    "print ('Twitter class를 활용한 유사도 분석을 위해 ' + str(document_distances_twitter.get_shape()[0]) + 'x' + str(document_distances_twitter.get_shape()[1]) + ' matrix를 만들었습니다.')\n",
    "print(document_distances_twitter.toarray())\n",
    "\n",
    "# # csv로 파일저장\n",
    "# #data1 = document_distances_kkma.toarray()\n",
    "# data2 = document_distances_twitter.toarray()\n",
    "\n",
    "# csvfile = open(\"hi.csv\", \"w\", newline=\"\")\n",
    " \n",
    "# csvwriter = csv.writer(csvfile)\n",
    "# for row in data2:\n",
    "#     csvwriter.writerow(row)\n",
    "\n",
    "    \n",
    "# csvfile.close()"
   ]
  }
 ],
 "metadata": {
  "kernelspec": {
   "display_name": "Python [conda env:tensorflow] *",
   "language": "python",
   "name": "conda-env-tensorflow-py"
  },
  "language_info": {
   "codemirror_mode": {
    "name": "ipython",
    "version": 3
   },
   "file_extension": ".py",
   "mimetype": "text/x-python",
   "name": "python",
   "nbconvert_exporter": "python",
   "pygments_lexer": "ipython3",
   "version": "3.7.3"
  }
 },
 "nbformat": 4,
 "nbformat_minor": 2
}
